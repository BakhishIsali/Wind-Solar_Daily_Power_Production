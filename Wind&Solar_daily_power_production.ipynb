{
 "cells": [
  {
   "cell_type": "code",
   "execution_count": 1,
   "metadata": {},
   "outputs": [],
   "source": [
    "import numpy as np\n",
    "import pandas as pd\n",
    "import seaborn as sns\n",
    "import matplotlib.pyplot as plt\n",
    "from sklearn.preprocessing import LabelEncoder\n",
    "import warnings\n",
    "warnings.simplefilter(\"ignore\",category=FutureWarning)\n",
    "pd.set_option(\"display.max_columns\",None)\n",
    "pd.set_option(\"display.width\",500)"
   ]
  },
  {
   "cell_type": "code",
   "execution_count": 2,
   "metadata": {},
   "outputs": [
    {
     "data": {
      "text/html": [
       "<div>\n",
       "<style scoped>\n",
       "    .dataframe tbody tr th:only-of-type {\n",
       "        vertical-align: middle;\n",
       "    }\n",
       "\n",
       "    .dataframe tbody tr th {\n",
       "        vertical-align: top;\n",
       "    }\n",
       "\n",
       "    .dataframe thead th {\n",
       "        text-align: right;\n",
       "    }\n",
       "</style>\n",
       "<table border=\"1\" class=\"dataframe\">\n",
       "  <thead>\n",
       "    <tr style=\"text-align: right;\">\n",
       "      <th></th>\n",
       "      <th>Date and Hour</th>\n",
       "      <th>Date</th>\n",
       "      <th>StartHour</th>\n",
       "      <th>EndHour</th>\n",
       "      <th>Source</th>\n",
       "      <th>Production</th>\n",
       "      <th>dayOfYear</th>\n",
       "      <th>dayName</th>\n",
       "      <th>monthName</th>\n",
       "    </tr>\n",
       "  </thead>\n",
       "  <tbody>\n",
       "    <tr>\n",
       "      <th>0</th>\n",
       "      <td>2020-07-22 20:00:00+02:00</td>\n",
       "      <td>2020-07-22</td>\n",
       "      <td>20:00:00</td>\n",
       "      <td>21:00:00</td>\n",
       "      <td>Solar</td>\n",
       "      <td>244.0</td>\n",
       "      <td>204</td>\n",
       "      <td>Wednesday</td>\n",
       "      <td>July</td>\n",
       "    </tr>\n",
       "    <tr>\n",
       "      <th>1</th>\n",
       "      <td>2020-07-23 07:00:00+02:00</td>\n",
       "      <td>2020-07-23</td>\n",
       "      <td>07:00:00</td>\n",
       "      <td>08:00:00</td>\n",
       "      <td>Solar</td>\n",
       "      <td>223.0</td>\n",
       "      <td>205</td>\n",
       "      <td>Thursday</td>\n",
       "      <td>July</td>\n",
       "    </tr>\n",
       "    <tr>\n",
       "      <th>2</th>\n",
       "      <td>2020-07-23 16:00:00+02:00</td>\n",
       "      <td>2020-07-23</td>\n",
       "      <td>16:00:00</td>\n",
       "      <td>17:00:00</td>\n",
       "      <td>Solar</td>\n",
       "      <td>2517.0</td>\n",
       "      <td>205</td>\n",
       "      <td>Thursday</td>\n",
       "      <td>July</td>\n",
       "    </tr>\n",
       "    <tr>\n",
       "      <th>3</th>\n",
       "      <td>2020-07-23 19:00:00+02:00</td>\n",
       "      <td>2020-07-23</td>\n",
       "      <td>19:00:00</td>\n",
       "      <td>20:00:00</td>\n",
       "      <td>Solar</td>\n",
       "      <td>658.0</td>\n",
       "      <td>205</td>\n",
       "      <td>Thursday</td>\n",
       "      <td>July</td>\n",
       "    </tr>\n",
       "    <tr>\n",
       "      <th>4</th>\n",
       "      <td>2020-07-23 23:00:00+02:00</td>\n",
       "      <td>2020-07-23</td>\n",
       "      <td>23:00:00</td>\n",
       "      <td>24:00:00</td>\n",
       "      <td>Solar</td>\n",
       "      <td>0.0</td>\n",
       "      <td>205</td>\n",
       "      <td>Thursday</td>\n",
       "      <td>July</td>\n",
       "    </tr>\n",
       "  </tbody>\n",
       "</table>\n",
       "</div>"
      ],
      "text/plain": [
       "               Date and Hour        Date StartHour   EndHour Source  Production  dayOfYear    dayName monthName\n",
       "0  2020-07-22 20:00:00+02:00  2020-07-22  20:00:00  21:00:00  Solar       244.0        204  Wednesday      July\n",
       "1  2020-07-23 07:00:00+02:00  2020-07-23  07:00:00  08:00:00  Solar       223.0        205   Thursday      July\n",
       "2  2020-07-23 16:00:00+02:00  2020-07-23  16:00:00  17:00:00  Solar      2517.0        205   Thursday      July\n",
       "3  2020-07-23 19:00:00+02:00  2020-07-23  19:00:00  20:00:00  Solar       658.0        205   Thursday      July\n",
       "4  2020-07-23 23:00:00+02:00  2020-07-23  23:00:00  24:00:00  Solar         0.0        205   Thursday      July"
      ]
     },
     "execution_count": 2,
     "metadata": {},
     "output_type": "execute_result"
    }
   ],
   "source": [
    "data=pd.read_csv(r\"C:\\Users\\user\\Downloads\\intermittent-renewables-production-france.csv\")\n",
    "data.head()"
   ]
  },
  {
   "cell_type": "code",
   "execution_count": 3,
   "metadata": {
    "scrolled": true
   },
   "outputs": [
    {
     "name": "stdout",
     "output_type": "stream",
     "text": [
      "<class 'pandas.core.frame.DataFrame'>\n",
      "RangeIndex: 59806 entries, 0 to 59805\n",
      "Data columns (total 9 columns):\n",
      " #   Column         Non-Null Count  Dtype  \n",
      "---  ------         --------------  -----  \n",
      " 0   Date and Hour  59806 non-null  object \n",
      " 1   Date           59806 non-null  object \n",
      " 2   StartHour      59806 non-null  object \n",
      " 3   EndHour        59806 non-null  object \n",
      " 4   Source         59806 non-null  object \n",
      " 5   Production     59804 non-null  float64\n",
      " 6   dayOfYear      59806 non-null  int64  \n",
      " 7   dayName        59806 non-null  object \n",
      " 8   monthName      59806 non-null  object \n",
      "dtypes: float64(1), int64(1), object(7)\n",
      "memory usage: 4.1+ MB\n"
     ]
    }
   ],
   "source": [
    "data.info()"
   ]
  },
  {
   "cell_type": "code",
   "execution_count": 4,
   "metadata": {},
   "outputs": [
    {
     "data": {
      "text/plain": [
       "Date and Hour    0\n",
       "Date             0\n",
       "StartHour        0\n",
       "EndHour          0\n",
       "Source           0\n",
       "Production       2\n",
       "dayOfYear        0\n",
       "dayName          0\n",
       "monthName        0\n",
       "dtype: int64"
      ]
     },
     "execution_count": 4,
     "metadata": {},
     "output_type": "execute_result"
    }
   ],
   "source": [
    "data.isnull().sum()"
   ]
  },
  {
   "cell_type": "code",
   "execution_count": 5,
   "metadata": {},
   "outputs": [
    {
     "data": {
      "text/html": [
       "<div>\n",
       "<style scoped>\n",
       "    .dataframe tbody tr th:only-of-type {\n",
       "        vertical-align: middle;\n",
       "    }\n",
       "\n",
       "    .dataframe tbody tr th {\n",
       "        vertical-align: top;\n",
       "    }\n",
       "\n",
       "    .dataframe thead th {\n",
       "        text-align: right;\n",
       "    }\n",
       "</style>\n",
       "<table border=\"1\" class=\"dataframe\">\n",
       "  <thead>\n",
       "    <tr style=\"text-align: right;\">\n",
       "      <th></th>\n",
       "      <th>Date and Hour</th>\n",
       "      <th>Date</th>\n",
       "      <th>StartHour</th>\n",
       "      <th>EndHour</th>\n",
       "      <th>Source</th>\n",
       "      <th>Production</th>\n",
       "      <th>dayOfYear</th>\n",
       "      <th>dayName</th>\n",
       "      <th>monthName</th>\n",
       "    </tr>\n",
       "  </thead>\n",
       "  <tbody>\n",
       "    <tr>\n",
       "      <th>36164</th>\n",
       "      <td>2022-03-27 03:00:00+02:00</td>\n",
       "      <td>2022-03-27</td>\n",
       "      <td>02:00:00</td>\n",
       "      <td>03:00:00</td>\n",
       "      <td>Solar</td>\n",
       "      <td>NaN</td>\n",
       "      <td>86</td>\n",
       "      <td>Sunday</td>\n",
       "      <td>March</td>\n",
       "    </tr>\n",
       "    <tr>\n",
       "      <th>39321</th>\n",
       "      <td>2022-03-27 03:00:00+02:00</td>\n",
       "      <td>2022-03-27</td>\n",
       "      <td>02:00:00</td>\n",
       "      <td>03:00:00</td>\n",
       "      <td>Wind</td>\n",
       "      <td>NaN</td>\n",
       "      <td>86</td>\n",
       "      <td>Sunday</td>\n",
       "      <td>March</td>\n",
       "    </tr>\n",
       "  </tbody>\n",
       "</table>\n",
       "</div>"
      ],
      "text/plain": [
       "                   Date and Hour        Date StartHour   EndHour Source  Production  dayOfYear dayName monthName\n",
       "36164  2022-03-27 03:00:00+02:00  2022-03-27  02:00:00  03:00:00  Solar         NaN         86  Sunday     March\n",
       "39321  2022-03-27 03:00:00+02:00  2022-03-27  02:00:00  03:00:00   Wind         NaN         86  Sunday     March"
      ]
     },
     "execution_count": 5,
     "metadata": {},
     "output_type": "execute_result"
    }
   ],
   "source": [
    "null=data[data.isnull().any(axis=1)]\n",
    "null"
   ]
  },
  {
   "cell_type": "code",
   "execution_count": 6,
   "metadata": {},
   "outputs": [],
   "source": [
    "data.dropna(inplace=True)"
   ]
  },
  {
   "cell_type": "code",
   "execution_count": 7,
   "metadata": {},
   "outputs": [
    {
     "data": {
      "text/plain": [
       "Date and Hour     object\n",
       "Date              object\n",
       "StartHour         object\n",
       "EndHour           object\n",
       "Source            object\n",
       "Production       float64\n",
       "dayOfYear          int64\n",
       "dayName           object\n",
       "monthName         object\n",
       "dtype: object"
      ]
     },
     "execution_count": 7,
     "metadata": {},
     "output_type": "execute_result"
    }
   ],
   "source": [
    "data.dtypes"
   ]
  },
  {
   "cell_type": "code",
   "execution_count": 8,
   "metadata": {},
   "outputs": [
    {
     "data": {
      "text/plain": [
       "Index(['Date and Hour', 'Date', 'StartHour', 'EndHour', 'Source', 'Production', 'dayOfYear', 'dayName', 'monthName'], dtype='object')"
      ]
     },
     "execution_count": 8,
     "metadata": {},
     "output_type": "execute_result"
    }
   ],
   "source": [
    "data.columns"
   ]
  },
  {
   "cell_type": "code",
   "execution_count": 9,
   "metadata": {},
   "outputs": [],
   "source": [
    "data.drop(\"Date and Hour\",axis=1,inplace=True)\n",
    "data[\"StartHour\"]=data[\"StartHour\"].str.replace(\":00:00\",\"\")\n",
    "data[\"EndHour\"]=data[\"EndHour\"].str.replace(\":00:00\",\"\")\n",
    "data[\"StartHour\"]=data[\"StartHour\"].astype(int)\n",
    "data[\"EndHour\"]=data[\"EndHour\"].astype(int)"
   ]
  },
  {
   "cell_type": "code",
   "execution_count": 10,
   "metadata": {},
   "outputs": [
    {
     "data": {
      "image/png": "[encoded data removed]",
      "text/plain": [
       "<Figure size 864x360 with 1 Axes>"
      ]
     },
     "metadata": {
      "needs_background": "light"
     },
     "output_type": "display_data"
    }
   ],
   "source": [
    "plt.figure(figsize=(12,5))\n",
    "sns.histplot(data[\"Production\"],kde=True)\n",
    "plt.show()"
   ]
  },
  {
   "cell_type": "code",
   "execution_count": 11,
   "metadata": {},
   "outputs": [
    {
     "data": {
      "text/html": [
       "<div>\n",
       "<style scoped>\n",
       "    .dataframe tbody tr th:only-of-type {\n",
       "        vertical-align: middle;\n",
       "    }\n",
       "\n",
       "    .dataframe tbody tr th {\n",
       "        vertical-align: top;\n",
       "    }\n",
       "\n",
       "    .dataframe thead th {\n",
       "        text-align: right;\n",
       "    }\n",
       "</style>\n",
       "<table border=\"1\" class=\"dataframe\">\n",
       "  <thead>\n",
       "    <tr style=\"text-align: right;\">\n",
       "      <th></th>\n",
       "      <th>Date</th>\n",
       "      <th>StartHour</th>\n",
       "      <th>EndHour</th>\n",
       "      <th>Source</th>\n",
       "      <th>Production</th>\n",
       "      <th>dayOfYear</th>\n",
       "      <th>dayName</th>\n",
       "      <th>monthName</th>\n",
       "    </tr>\n",
       "  </thead>\n",
       "  <tbody>\n",
       "    <tr>\n",
       "      <th>0</th>\n",
       "      <td>2020-07-22</td>\n",
       "      <td>20</td>\n",
       "      <td>21</td>\n",
       "      <td>Solar</td>\n",
       "      <td>244.0</td>\n",
       "      <td>204</td>\n",
       "      <td>Wednesday</td>\n",
       "      <td>July</td>\n",
       "    </tr>\n",
       "    <tr>\n",
       "      <th>1</th>\n",
       "      <td>2020-07-23</td>\n",
       "      <td>7</td>\n",
       "      <td>8</td>\n",
       "      <td>Solar</td>\n",
       "      <td>223.0</td>\n",
       "      <td>205</td>\n",
       "      <td>Thursday</td>\n",
       "      <td>July</td>\n",
       "    </tr>\n",
       "    <tr>\n",
       "      <th>2</th>\n",
       "      <td>2020-07-23</td>\n",
       "      <td>16</td>\n",
       "      <td>17</td>\n",
       "      <td>Solar</td>\n",
       "      <td>2517.0</td>\n",
       "      <td>205</td>\n",
       "      <td>Thursday</td>\n",
       "      <td>July</td>\n",
       "    </tr>\n",
       "    <tr>\n",
       "      <th>3</th>\n",
       "      <td>2020-07-23</td>\n",
       "      <td>19</td>\n",
       "      <td>20</td>\n",
       "      <td>Solar</td>\n",
       "      <td>658.0</td>\n",
       "      <td>205</td>\n",
       "      <td>Thursday</td>\n",
       "      <td>July</td>\n",
       "    </tr>\n",
       "    <tr>\n",
       "      <th>4</th>\n",
       "      <td>2020-07-23</td>\n",
       "      <td>23</td>\n",
       "      <td>24</td>\n",
       "      <td>Solar</td>\n",
       "      <td>0.0</td>\n",
       "      <td>205</td>\n",
       "      <td>Thursday</td>\n",
       "      <td>July</td>\n",
       "    </tr>\n",
       "    <tr>\n",
       "      <th>...</th>\n",
       "      <td>...</td>\n",
       "      <td>...</td>\n",
       "      <td>...</td>\n",
       "      <td>...</td>\n",
       "      <td>...</td>\n",
       "      <td>...</td>\n",
       "      <td>...</td>\n",
       "      <td>...</td>\n",
       "    </tr>\n",
       "    <tr>\n",
       "      <th>59801</th>\n",
       "      <td>2023-06-30</td>\n",
       "      <td>6</td>\n",
       "      <td>7</td>\n",
       "      <td>Solar</td>\n",
       "      <td>55.0</td>\n",
       "      <td>181</td>\n",
       "      <td>Friday</td>\n",
       "      <td>June</td>\n",
       "    </tr>\n",
       "    <tr>\n",
       "      <th>59802</th>\n",
       "      <td>2023-06-30</td>\n",
       "      <td>13</td>\n",
       "      <td>14</td>\n",
       "      <td>Solar</td>\n",
       "      <td>4554.0</td>\n",
       "      <td>181</td>\n",
       "      <td>Friday</td>\n",
       "      <td>June</td>\n",
       "    </tr>\n",
       "    <tr>\n",
       "      <th>59803</th>\n",
       "      <td>2023-06-30</td>\n",
       "      <td>14</td>\n",
       "      <td>15</td>\n",
       "      <td>Solar</td>\n",
       "      <td>4589.0</td>\n",
       "      <td>181</td>\n",
       "      <td>Friday</td>\n",
       "      <td>June</td>\n",
       "    </tr>\n",
       "    <tr>\n",
       "      <th>59804</th>\n",
       "      <td>2023-06-30</td>\n",
       "      <td>16</td>\n",
       "      <td>17</td>\n",
       "      <td>Solar</td>\n",
       "      <td>4173.0</td>\n",
       "      <td>181</td>\n",
       "      <td>Friday</td>\n",
       "      <td>June</td>\n",
       "    </tr>\n",
       "    <tr>\n",
       "      <th>59805</th>\n",
       "      <td>2023-06-30</td>\n",
       "      <td>18</td>\n",
       "      <td>19</td>\n",
       "      <td>Solar</td>\n",
       "      <td>2404.0</td>\n",
       "      <td>181</td>\n",
       "      <td>Friday</td>\n",
       "      <td>June</td>\n",
       "    </tr>\n",
       "  </tbody>\n",
       "</table>\n",
       "<p>59804 rows × 8 columns</p>\n",
       "</div>"
      ],
      "text/plain": [
       "             Date  StartHour  EndHour Source  Production  dayOfYear    dayName monthName\n",
       "0      2020-07-22         20       21  Solar       244.0        204  Wednesday      July\n",
       "1      2020-07-23          7        8  Solar       223.0        205   Thursday      July\n",
       "2      2020-07-23         16       17  Solar      2517.0        205   Thursday      July\n",
       "3      2020-07-23         19       20  Solar       658.0        205   Thursday      July\n",
       "4      2020-07-23         23       24  Solar         0.0        205   Thursday      July\n",
       "...           ...        ...      ...    ...         ...        ...        ...       ...\n",
       "59801  2023-06-30          6        7  Solar        55.0        181     Friday      June\n",
       "59802  2023-06-30         13       14  Solar      4554.0        181     Friday      June\n",
       "59803  2023-06-30         14       15  Solar      4589.0        181     Friday      June\n",
       "59804  2023-06-30         16       17  Solar      4173.0        181     Friday      June\n",
       "59805  2023-06-30         18       19  Solar      2404.0        181     Friday      June\n",
       "\n",
       "[59804 rows x 8 columns]"
      ]
     },
     "execution_count": 11,
     "metadata": {},
     "output_type": "execute_result"
    }
   ],
   "source": [
    "data"
   ]
  },
  {
   "cell_type": "code",
   "execution_count": 12,
   "metadata": {},
   "outputs": [
    {
     "data": {
      "text/html": [
       "<div>\n",
       "<style scoped>\n",
       "    .dataframe tbody tr th:only-of-type {\n",
       "        vertical-align: middle;\n",
       "    }\n",
       "\n",
       "    .dataframe tbody tr th {\n",
       "        vertical-align: top;\n",
       "    }\n",
       "\n",
       "    .dataframe thead th {\n",
       "        text-align: right;\n",
       "    }\n",
       "</style>\n",
       "<table border=\"1\" class=\"dataframe\">\n",
       "  <thead>\n",
       "    <tr style=\"text-align: right;\">\n",
       "      <th></th>\n",
       "      <th>dayName</th>\n",
       "      <th>Production</th>\n",
       "    </tr>\n",
       "  </thead>\n",
       "  <tbody>\n",
       "    <tr>\n",
       "      <th>1</th>\n",
       "      <td>Monday</td>\n",
       "      <td>2837.673258</td>\n",
       "    </tr>\n",
       "    <tr>\n",
       "      <th>3</th>\n",
       "      <td>Sunday</td>\n",
       "      <td>2837.066062</td>\n",
       "    </tr>\n",
       "    <tr>\n",
       "      <th>5</th>\n",
       "      <td>Tuesday</td>\n",
       "      <td>2813.556968</td>\n",
       "    </tr>\n",
       "    <tr>\n",
       "      <th>0</th>\n",
       "      <td>Friday</td>\n",
       "      <td>2807.817621</td>\n",
       "    </tr>\n",
       "    <tr>\n",
       "      <th>2</th>\n",
       "      <td>Saturday</td>\n",
       "      <td>2794.446395</td>\n",
       "    </tr>\n",
       "    <tr>\n",
       "      <th>4</th>\n",
       "      <td>Thursday</td>\n",
       "      <td>2753.287826</td>\n",
       "    </tr>\n",
       "    <tr>\n",
       "      <th>6</th>\n",
       "      <td>Wednesday</td>\n",
       "      <td>2707.425628</td>\n",
       "    </tr>\n",
       "  </tbody>\n",
       "</table>\n",
       "</div>"
      ],
      "text/plain": [
       "     dayName   Production\n",
       "1     Monday  2837.673258\n",
       "3     Sunday  2837.066062\n",
       "5    Tuesday  2813.556968\n",
       "0     Friday  2807.817621\n",
       "2   Saturday  2794.446395\n",
       "4   Thursday  2753.287826\n",
       "6  Wednesday  2707.425628"
      ]
     },
     "execution_count": 12,
     "metadata": {},
     "output_type": "execute_result"
    }
   ],
   "source": [
    "#Mean of production by day\n",
    "mp=data.groupby(by=\"dayName\",as_index=False)[\"Production\"].mean()\n",
    "mp.sort_values(by=\"Production\",ascending=False)"
   ]
  },
  {
   "cell_type": "code",
   "execution_count": 13,
   "metadata": {},
   "outputs": [
    {
     "data": {
      "text/plain": [
       "Wind     29903\n",
       "Solar    29901\n",
       "Name: Source, dtype: int64"
      ]
     },
     "execution_count": 13,
     "metadata": {},
     "output_type": "execute_result"
    }
   ],
   "source": [
    "data[\"Source\"].value_counts()"
   ]
  },
  {
   "cell_type": "code",
   "execution_count": 14,
   "metadata": {},
   "outputs": [
    {
     "data": {
      "text/html": [
       "<div>\n",
       "<style scoped>\n",
       "    .dataframe tbody tr th:only-of-type {\n",
       "        vertical-align: middle;\n",
       "    }\n",
       "\n",
       "    .dataframe tbody tr th {\n",
       "        vertical-align: top;\n",
       "    }\n",
       "\n",
       "    .dataframe thead th {\n",
       "        text-align: right;\n",
       "    }\n",
       "</style>\n",
       "<table border=\"1\" class=\"dataframe\">\n",
       "  <thead>\n",
       "    <tr style=\"text-align: right;\">\n",
       "      <th></th>\n",
       "      <th>dayName</th>\n",
       "      <th>Production</th>\n",
       "    </tr>\n",
       "  </thead>\n",
       "  <tbody>\n",
       "    <tr>\n",
       "      <th>2</th>\n",
       "      <td>Saturday</td>\n",
       "      <td>1091.632022</td>\n",
       "    </tr>\n",
       "    <tr>\n",
       "      <th>1</th>\n",
       "      <td>Monday</td>\n",
       "      <td>1079.059087</td>\n",
       "    </tr>\n",
       "    <tr>\n",
       "      <th>6</th>\n",
       "      <td>Wednesday</td>\n",
       "      <td>1074.894553</td>\n",
       "    </tr>\n",
       "    <tr>\n",
       "      <th>5</th>\n",
       "      <td>Tuesday</td>\n",
       "      <td>1071.410311</td>\n",
       "    </tr>\n",
       "    <tr>\n",
       "      <th>3</th>\n",
       "      <td>Sunday</td>\n",
       "      <td>1065.974558</td>\n",
       "    </tr>\n",
       "    <tr>\n",
       "      <th>0</th>\n",
       "      <td>Friday</td>\n",
       "      <td>1054.762104</td>\n",
       "    </tr>\n",
       "    <tr>\n",
       "      <th>4</th>\n",
       "      <td>Thursday</td>\n",
       "      <td>1044.539339</td>\n",
       "    </tr>\n",
       "  </tbody>\n",
       "</table>\n",
       "</div>"
      ],
      "text/plain": [
       "     dayName   Production\n",
       "2   Saturday  1091.632022\n",
       "1     Monday  1079.059087\n",
       "6  Wednesday  1074.894553\n",
       "5    Tuesday  1071.410311\n",
       "3     Sunday  1065.974558\n",
       "0     Friday  1054.762104\n",
       "4   Thursday  1044.539339"
      ]
     },
     "execution_count": 14,
     "metadata": {},
     "output_type": "execute_result"
    }
   ],
   "source": [
    "mps=data[data[\"Source\"]==\"Solar\"].groupby(by=\"dayName\",as_index=False)[\"Production\"].mean()\n",
    "mps_sorted=mps.sort_values(by=\"Production\",ascending=False)\n",
    "mps_sorted"
   ]
  },
  {
   "cell_type": "code",
   "execution_count": 15,
   "metadata": {},
   "outputs": [
    {
     "data": {
      "image/png": "[encoded data removed]",
      "text/plain": [
       "<Figure size 720x360 with 1 Axes>"
      ]
     },
     "metadata": {
      "needs_background": "light"
     },
     "output_type": "display_data"
    }
   ],
   "source": [
    "y=mps_sorted[\"Production\"]\n",
    "x=mps_sorted[\"dayName\"]\n",
    "plt.figure(figsize=(10,5))\n",
    "colors=sns.color_palette(\"Blues\",len(x))\n",
    "plt.bar(x,y)\n",
    "plt.xlabel(\"Day\")\n",
    "plt.ylabel(\"Average Production\")\n",
    "plt.title(\"Average Production by day (Solar)\")\n",
    "plt.xticks(rotation=45)\n",
    "for index, value in enumerate(y):\n",
    "    plt.text(index,value,str(round(value,2)),ha='center',va='baseline')\n",
    "plt.show()"
   ]
  },
  {
   "cell_type": "code",
   "execution_count": 16,
   "metadata": {},
   "outputs": [],
   "source": [
    "mpw=data[data[\"Source\"]==\"Wind\"].groupby(by=\"dayName\",as_index=False)[\"Production\"].mean()\n",
    "mpw_sorted=mpw.sort_values(by=\"Production\",ascending=False)"
   ]
  },
  {
   "cell_type": "code",
   "execution_count": 17,
   "metadata": {
    "scrolled": true
   },
   "outputs": [
    {
     "data": {
      "image/png": "[encoded data removed]",
      "text/plain": [
       "<Figure size 720x360 with 1 Axes>"
      ]
     },
     "metadata": {
      "needs_background": "light"
     },
     "output_type": "display_data"
    }
   ],
   "source": [
    "y=mpw_sorted[\"Production\"]\n",
    "x=mpw_sorted[\"dayName\"]\n",
    "plt.figure(figsize=(10,5))\n",
    "colors=sns.color_palette(\"Blues\",7)\n",
    "plt.bar(x,y)\n",
    "plt.xlabel(\"Day\")\n",
    "plt.ylabel(\"Average Production\")\n",
    "plt.title(\"Average Production by day (Wind)\")\n",
    "plt.xticks(rotation=45)\n",
    "for index, value in enumerate(y):\n",
    "    plt.text(index, value, str(round(value, 2)), ha='center', va='baseline')\n",
    "plt.show()\n"
   ]
  },
  {
   "cell_type": "code",
   "execution_count": 18,
   "metadata": {},
   "outputs": [
    {
     "data": {
      "image/png": "[encoded data removed]",
      "text/plain": [
       "<Figure size 864x360 with 1 Axes>"
      ]
     },
     "metadata": {
      "needs_background": "light"
     },
     "output_type": "display_data"
    }
   ],
   "source": [
    "plt.figure(figsize=(12,5))\n",
    "sns.barplot(data=data,x=\"dayName\",y=\"Production\",hue=\"Source\")\n",
    "plt.title(\"Production by DayName\")\n",
    "plt.xlabel(\"Day Name\")\n",
    "plt.xticks(rotation=45)\n",
    "plt.show()"
   ]
  },
  {
   "cell_type": "code",
   "execution_count": 19,
   "metadata": {},
   "outputs": [
    {
     "data": {
      "image/png": "[encoded data removed]",
      "text/plain": [
       "<Figure size 864x360 with 1 Axes>"
      ]
     },
     "metadata": {
      "needs_background": "light"
     },
     "output_type": "display_data"
    }
   ],
   "source": [
    "plt.figure(figsize=(12,5))\n",
    "sns.barplot(data=data,x=\"monthName\",y=\"Production\",hue=\"Source\")\n",
    "plt.title(\"Production by MonthName\")\n",
    "plt.xlabel(\"Month Name\")\n",
    "plt.xticks(rotation=45)\n",
    "plt.show()"
   ]
  },
  {
   "cell_type": "code",
   "execution_count": 20,
   "metadata": {},
   "outputs": [],
   "source": [
    "data[\"Total_time\"]=data[\"EndHour\"]-data[\"StartHour\"]\n",
    "data.drop([\"Date\"],axis=1,inplace=True)\n",
    "data.drop([\"StartHour\",\"EndHour\"],axis=1,inplace=True)"
   ]
  },
  {
   "cell_type": "code",
   "execution_count": 21,
   "metadata": {},
   "outputs": [],
   "source": [
    "list=[\"Source\",\"dayName\",\"monthName\"]\n",
    "for i in list:\n",
    "    data[i]=LabelEncoder().fit_transform(data[i])"
   ]
  },
  {
   "cell_type": "code",
   "execution_count": 22,
   "metadata": {
    "scrolled": true
   },
   "outputs": [
    {
     "data": {
      "text/html": [
       "<div>\n",
       "<style scoped>\n",
       "    .dataframe tbody tr th:only-of-type {\n",
       "        vertical-align: middle;\n",
       "    }\n",
       "\n",
       "    .dataframe tbody tr th {\n",
       "        vertical-align: top;\n",
       "    }\n",
       "\n",
       "    .dataframe thead th {\n",
       "        text-align: right;\n",
       "    }\n",
       "</style>\n",
       "<table border=\"1\" class=\"dataframe\">\n",
       "  <thead>\n",
       "    <tr style=\"text-align: right;\">\n",
       "      <th></th>\n",
       "      <th>Source</th>\n",
       "      <th>Production</th>\n",
       "      <th>dayOfYear</th>\n",
       "      <th>dayName</th>\n",
       "      <th>monthName</th>\n",
       "      <th>Total_time</th>\n",
       "    </tr>\n",
       "  </thead>\n",
       "  <tbody>\n",
       "    <tr>\n",
       "      <th>0</th>\n",
       "      <td>0</td>\n",
       "      <td>244.0</td>\n",
       "      <td>204</td>\n",
       "      <td>6</td>\n",
       "      <td>5</td>\n",
       "      <td>1</td>\n",
       "    </tr>\n",
       "    <tr>\n",
       "      <th>1</th>\n",
       "      <td>0</td>\n",
       "      <td>223.0</td>\n",
       "      <td>205</td>\n",
       "      <td>4</td>\n",
       "      <td>5</td>\n",
       "      <td>1</td>\n",
       "    </tr>\n",
       "    <tr>\n",
       "      <th>2</th>\n",
       "      <td>0</td>\n",
       "      <td>2517.0</td>\n",
       "      <td>205</td>\n",
       "      <td>4</td>\n",
       "      <td>5</td>\n",
       "      <td>1</td>\n",
       "    </tr>\n",
       "    <tr>\n",
       "      <th>3</th>\n",
       "      <td>0</td>\n",
       "      <td>658.0</td>\n",
       "      <td>205</td>\n",
       "      <td>4</td>\n",
       "      <td>5</td>\n",
       "      <td>1</td>\n",
       "    </tr>\n",
       "    <tr>\n",
       "      <th>4</th>\n",
       "      <td>0</td>\n",
       "      <td>0.0</td>\n",
       "      <td>205</td>\n",
       "      <td>4</td>\n",
       "      <td>5</td>\n",
       "      <td>1</td>\n",
       "    </tr>\n",
       "  </tbody>\n",
       "</table>\n",
       "</div>"
      ],
      "text/plain": [
       "   Source  Production  dayOfYear  dayName  monthName  Total_time\n",
       "0       0       244.0        204        6          5           1\n",
       "1       0       223.0        205        4          5           1\n",
       "2       0      2517.0        205        4          5           1\n",
       "3       0       658.0        205        4          5           1\n",
       "4       0         0.0        205        4          5           1"
      ]
     },
     "execution_count": 22,
     "metadata": {},
     "output_type": "execute_result"
    }
   ],
   "source": [
    "data.head()"
   ]
  },
  {
   "cell_type": "code",
   "execution_count": 23,
   "metadata": {},
   "outputs": [],
   "source": [
    "from sklearn.model_selection import train_test_split,cross_validate\n",
    "from sklearn.ensemble import RandomForestClassifier, GradientBoostingClassifier\n",
    "from sklearn.tree import DecisionTreeClassifier\n",
    "from sklearn.neighbors import KNeighborsClassifier\n",
    "from sklearn.metrics import classification_report"
   ]
  },
  {
   "cell_type": "code",
   "execution_count": 24,
   "metadata": {},
   "outputs": [],
   "source": [
    "X=data.drop([\"monthName\"],axis=1)\n",
    "y=data[\"monthName\"]"
   ]
  },
  {
   "cell_type": "code",
   "execution_count": 25,
   "metadata": {},
   "outputs": [
    {
     "name": "stdout",
     "output_type": "stream",
     "text": [
      "X-Train : (47843, 5)\n",
      "X-Test : (11961, 5)\n",
      "Y-Train : (11961,)\n",
      "Y-Test : (11961,)\n"
     ]
    }
   ],
   "source": [
    "X_train,X_test,y_train,y_test=train_test_split(X,y,test_size=0.2)\n",
    "print(\"X-Train :\",X_train.shape)\n",
    "print(\"X-Test :\",X_test.shape)\n",
    "print(\"Y-Train :\",y_test.shape)\n",
    "print(\"Y-Test :\",y_test.shape)"
   ]
  },
  {
   "cell_type": "code",
   "execution_count": 35,
   "metadata": {},
   "outputs": [
    {
     "data": {
      "text/html": [
       "<div>\n",
       "<style scoped>\n",
       "    .dataframe tbody tr th:only-of-type {\n",
       "        vertical-align: middle;\n",
       "    }\n",
       "\n",
       "    .dataframe tbody tr th {\n",
       "        vertical-align: top;\n",
       "    }\n",
       "\n",
       "    .dataframe thead th {\n",
       "        text-align: right;\n",
       "    }\n",
       "</style>\n",
       "<table border=\"1\" class=\"dataframe\">\n",
       "  <thead>\n",
       "    <tr style=\"text-align: right;\">\n",
       "      <th></th>\n",
       "      <th>accuracy</th>\n",
       "    </tr>\n",
       "  </thead>\n",
       "  <tbody>\n",
       "    <tr>\n",
       "      <th>Random Forest</th>\n",
       "      <td>0.999666</td>\n",
       "    </tr>\n",
       "    <tr>\n",
       "      <th>Gradient Boosting</th>\n",
       "      <td>1.000000</td>\n",
       "    </tr>\n",
       "    <tr>\n",
       "      <th>Decision Tree</th>\n",
       "      <td>1.000000</td>\n",
       "    </tr>\n",
       "    <tr>\n",
       "      <th>K-nearest Neighbors</th>\n",
       "      <td>0.911880</td>\n",
       "    </tr>\n",
       "  </tbody>\n",
       "</table>\n",
       "</div>"
      ],
      "text/plain": [
       "                     accuracy\n",
       "Random Forest        0.999666\n",
       "Gradient Boosting    1.000000\n",
       "Decision Tree        1.000000\n",
       "K-nearest Neighbors  0.911880"
      ]
     },
     "execution_count": 35,
     "metadata": {},
     "output_type": "execute_result"
    }
   ],
   "source": [
    "classification = {\n",
    "    'Random Forest' : RandomForestClassifier(),\n",
    "    'Gradient Boosting' : GradientBoostingClassifier(),\n",
    "    'Decision Tree' : DecisionTreeClassifier(),\n",
    "    'K-nearest Neighbors' : KNeighborsClassifier()\n",
    "}\n",
    "results=pd.DataFrame(columns=[\"accuracy\"])\n",
    "for method,func in classification.items():\n",
    "    func.fit(X_train,y_train)\n",
    "    y_pred = func.predict(X_test)\n",
    "    results.loc[method]= [accuracy_score(y_test,y_pred)]\n",
    "results"
   ]
  },
  {
   "cell_type": "code",
   "execution_count": null,
   "metadata": {},
   "outputs": [],
   "source": []
  }
 ],
 "metadata": {
  "kernelspec": {
   "display_name": "Python 3",
   "language": "python",
   "name": "python3"
  },
  "language_info": {
   "codemirror_mode": {
    "name": "ipython",
    "version": 3
   },
   "file_extension": ".py",
   "mimetype": "text/x-python",
   "name": "python",
   "nbconvert_exporter": "python",
   "pygments_lexer": "ipython3",
   "version": "3.8.5"
  }
 },
 "nbformat": 4,
 "nbformat_minor": 4
}
